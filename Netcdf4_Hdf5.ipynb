{
 "cells": [
  {
   "cell_type": "markdown",
   "metadata": {},
   "source": [
    "# Notes, 2/8/18\n",
    "* Netcdf4 and HDF5 both have the same underlying file structure\n",
    "    * File struction is called HDF5\n",
    "* Python Netcdf4\n",
    "    * Lots of unlimited size dimensions needs careful attention\n",
    "        * If more than one unlimited dimension, the default chunk size is 1024\n",
    "            * If this dimension ends up with small size, still have a size of 1024 allocated in the file\n",
    "            * Lots of wasted file space\n",
    "        * Unlimited dimensions appear to be detrimental to file size\n",
    "            * Large reduction in file size can be obtained by minimizing the number of unlimited dimensions\n",
    "        * Variable compression (zlib=True) slows way down with multiple unlimited dimensions\n",
    "        * These effects are likely coming from the need to keep rebuilding the variable as the dimension sizes keep changing\n",
    "            * The data has to be uncompressed and then re-compressed\n",
    "            * The gross mismatch of chunk sizes likely exacerbates this\n",
    "                * Both for performance and memory usage\n",
    "    * Example from jedi_bufr2nc\n",
    "        * jedi_bufr2nc.py Aircraft ../bufr2nc/test/data/gdas.t00z.prepbufr.nr aircraft.test.nc\n",
    "        * The input prepbufr file is 49MB\n",
    "        * When compression (level = 6) was used in jed_bufr2nc.py\n",
    "            * Default chunk sizing\n",
    "            * Process took about 20 minutes to run!\n",
    "            * Output file was about 100MB!\n",
    "            * A variable with size (1867,1) was using chunk size (1024,1024)\n",
    "        * Shut off compression (zlib=False)\n",
    "            * Process much faster --> 2 minutes\n",
    "            * But output file huge, 1GB!\n",
    "                * Ridiculous waste, the output data uncompressed should be around 350KB\n",
    "        * Specified chunksize using a size of 1 for all unlimited dimensions\n",
    "            * Runtime about the same\n",
    "            * File size reduced to 86MB\n",
    "                * Way better, but still excessive waste\n",
    "        * Used nccopy for two more improvements\n",
    "            * Change unlimited dims to fixed dims\n",
    "                * nccopy -u infile outfile\n",
    "            * Shuffle and compress file (level 6)\n",
    "                * nccopy -d 6 -s infile outfile\n",
    "            * Recommended to do these in two distict steps\n",
    "                * compression works much more effectively when dims are fixed\n",
    "        * Change unlimited dims to fixed dims\n",
    "            * Long runtime: 5 - 10 minutes\n",
    "            * File reduced to 6MB\n",
    "            * Note: no compress has been applied at this point\n",
    "        * Shuffle and compress file\n",
    "            * Very fast, 1 second\n",
    "            * File reduce to 211KB\n",
    "                * Much more reasonable\n",
    "        * Summary of impacts show in sequence the actions were tried\n",
    "        \n",
    "| Action | File Size | Var Size | Chunk Size |\n",
    "|:-------|:---------:|:--------:|:----------:|\n",
    "|Default chunking|1GB|(1867,1)|(1024,1024)|\n",
    "|Chunking with size 1 for unlim dims|86MB|(1867,1)|(1,1)|\n",
    "|Change unlim dims to fixed dims|6MB|(1867,1)|(1867,1)|\n",
    "|Shuffle and compress|221KB|(1861,1)|(1861,1)|\n",
    "\n",
    "\n",
    "        "
   ]
  },
  {
   "cell_type": "code",
   "execution_count": null,
   "metadata": {
    "collapsed": true
   },
   "outputs": [],
   "source": []
  }
 ],
 "metadata": {
  "kernelspec": {
   "display_name": "Python 3",
   "language": "python",
   "name": "python3"
  },
  "language_info": {
   "codemirror_mode": {
    "name": "ipython",
    "version": 2
   },
   "file_extension": ".py",
   "mimetype": "text/x-python",
   "name": "python",
   "nbconvert_exporter": "python",
   "pygments_lexer": "ipython2",
   "version": "2.7.14"
  }
 },
 "nbformat": 4,
 "nbformat_minor": 2
}
