{
 "cells": [
  {
   "cell_type": "markdown",
   "metadata": {},
   "source": [
    "# Sixth Jedi Academy 6/23/21\n",
    "\n",
    "* YAML lecture\n",
    "    * Add in discussion about YAML validators\n",
    "\n",
    "* Add using a YAML validator to an activity\n",
    "\n",
    "* IODA lecture\n",
    "    * Show multiple variable control in obs grouping example\n",
    "    * Update schematic - it still shows channels as separate variables\n",
    "\n"
   ]
  },
  {
   "cell_type": "code",
   "execution_count": null,
   "metadata": {},
   "outputs": [],
   "source": []
  }
 ],
 "metadata": {
  "kernelspec": {
   "display_name": "Python 3",
   "language": "python",
   "name": "python3"
  },
  "language_info": {
   "codemirror_mode": {
    "name": "ipython",
    "version": 3
   },
   "file_extension": ".py",
   "mimetype": "text/x-python",
   "name": "python",
   "nbconvert_exporter": "python",
   "pygments_lexer": "ipython3",
   "version": "3.9.2"
  }
 },
 "nbformat": 4,
 "nbformat_minor": 4
}
