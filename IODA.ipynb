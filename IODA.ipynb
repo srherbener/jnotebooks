{
 "cells": [
  {
   "cell_type": "markdown",
   "metadata": {},
   "source": [
    "# Notes, 2/20/18\n",
    "\n",
    "* I'll be gatekeeper for the IODA repository\n",
    "\n",
    "* Map containing which list of mnemonics from BUFR go with each obs type should be placed in IODA somewhere\n",
    "    * One copy\n",
    "    * All subsystems have access to the list\n",
    "\n",
    "* Xin\n",
    "    * Variable names are hard coded in the netCDF readers\n",
    "    * src/ncdiag\n",
    "        * m_diag_aircraft.f90 (aircraft)\n",
    "        * m_diag_conv.f90 (conventional)\n",
    "        * m_diag_raob.f90 (radiosonde)\n",
    "    * Don't want to have to write separate fortran files for each obs type since there will be 30-40 of these"
   ]
  },
  {
   "cell_type": "code",
   "execution_count": null,
   "metadata": {
    "collapsed": true
   },
   "outputs": [],
   "source": []
  }
 ],
 "metadata": {
  "kernelspec": {
   "display_name": "Python 3",
   "language": "python",
   "name": "python3"
  },
  "language_info": {
   "codemirror_mode": {
    "name": "ipython",
    "version": 2
   },
   "file_extension": ".py",
   "mimetype": "text/x-python",
   "name": "python",
   "nbconvert_exporter": "python",
   "pygments_lexer": "ipython2",
   "version": "2.7.14"
  }
 },
 "nbformat": 4,
 "nbformat_minor": 2
}
