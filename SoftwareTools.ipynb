{
 "cells": [
  {
   "cell_type": "markdown",
   "metadata": {},
   "source": [
    "# CMake\n",
    "\n",
    "* cmake can take \"defines\" on the command line that can be used to set paths in the makefiles\n",
    "    * Example:\n",
    "~~~~~~~~\n",
    "cmake -DCMAKE_EXE_LINKER_FLAGS_INIT=\"-L/Users/stephenh/projects/py-ncepbufr/src\" ..\n",
    "~~~~~~~~\n",
    "\n",
    "* Other controls  \n",
    "    https://cmake.org/cmake/help/v3.0/manual/cmake-variables.7.html\n",
    "    \n",
    "    CMAKE_ARGC  \n",
    "    CMAKE_ARGV0  \n",
    "    CMAKE_BINARY_DIR  \n",
    "    CMAKE_COMMAND  \n",
    "    ...  \n"
   ]
  },
  {
   "cell_type": "markdown",
   "metadata": {
    "collapsed": true
   },
   "source": [
    "# Git Flow\n",
    "\n",
    "## When the developer doesn't have push permission to the github repository\n",
    "\n",
    "### Developer in their local repo\n",
    "~~~~~~~~\n",
    "git flow init\n",
    "\n",
    "git flow feature start <name>\n",
    "\n",
    "make edits\n",
    "\n",
    "git flow feature publish <name>\n",
    "~~~~~~~~\n",
    "\n",
    "### Developer on GitHub\n",
    "\n",
    "~~~~~~~~\n",
    "initiate a pull request from branch featrue/<name> to branch develop\n",
    "~~~~~~~~\n",
    "\n",
    "### Owner on GitHub\n",
    "\n",
    "~~~~~~~~\n",
    "once feature/<name> is approved, process the pull request\n",
    "    merge feature/<name> into develop\n",
    "    delete feature/<name>\n",
    "~~~~~~~~\n",
    "\n",
    "### Developer in their local repo\n",
    "\n",
    "~~~~~~~~\n",
    "git branch -D feature/<name>\n",
    "\n",
    "git remote update -p  # -p prunes the remote feature/<name> branch from the local repo\n",
    "\n",
    "git checkout master\n",
    "git pull origin master\n",
    "\n",
    "git checkout develop\n",
    "git pull origin develop\n",
    "~~~~~~~~"
   ]
  },
  {
   "cell_type": "code",
   "execution_count": null,
   "metadata": {
    "collapsed": true
   },
   "outputs": [],
   "source": []
  }
 ],
 "metadata": {
  "kernelspec": {
   "display_name": "Python 2",
   "language": "python",
   "name": "python2"
  },
  "language_info": {
   "codemirror_mode": {
    "name": "ipython",
    "version": 2
   },
   "file_extension": ".py",
   "mimetype": "text/x-python",
   "name": "python",
   "nbconvert_exporter": "python",
   "pygments_lexer": "ipython2",
   "version": "2.7.14"
  }
 },
 "nbformat": 4,
 "nbformat_minor": 2
}
