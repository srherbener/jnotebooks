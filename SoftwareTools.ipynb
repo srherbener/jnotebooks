{
 "cells": [
  {
   "cell_type": "markdown",
   "metadata": {},
   "source": [
    "# CMake\n",
    "\n",
    "* cmake can take \"defines\" on the command line that can be used to set paths in the makefiles\n",
    "    * Example:\n",
    "~~~~~~~~\n",
    "cmake -DCMAKE_EXE_LINKER_FLAGS_INIT=\"-L/Users/stephenh/projects/py-ncepbufr/src\" ..\n",
    "~~~~~~~~\n",
    "\n",
    "* Other controls  \n",
    "    https://cmake.org/cmake/help/v3.0/manual/cmake-variables.7.html\n",
    "    \n",
    "    CMAKE_ARGC  \n",
    "    CMAKE_ARGV0  \n",
    "    CMAKE_BINARY_DIR  \n",
    "    CMAKE_COMMAND  \n",
    "    ...  \n"
   ]
  },
  {
   "cell_type": "markdown",
   "metadata": {},
   "source": [
    "# Git Flow\n",
    "\n",
    "## When the developer doesn't have push permission to the github repository\n",
    "\n",
    "### Developer in their local repo\n",
    "~~~~~~~~\n",
    "git flow init\n",
    "\n",
    "git flow feature start <name>\n",
    "\n",
    "make edits\n",
    "\n",
    "git flow feature publish <name>\n",
    "~~~~~~~~\n",
    "\n",
    "### Developer on GitHub\n",
    "\n",
    "~~~~~~~~\n",
    "initiate a pull request from branch featrue/<name> to branch develop\n",
    "~~~~~~~~\n",
    "\n",
    "### Owner on GitHub\n",
    "\n",
    "~~~~~~~~\n",
    "once feature/<name> is approved, process the pull request\n",
    "    merge feature/<name> into develop\n",
    "    delete feature/<name>\n",
    "~~~~~~~~\n",
    "\n",
    "### Developer in their local repo\n",
    "\n",
    "~~~~~~~~\n",
    "git branch -D feature/<name>\n",
    "\n",
    "git remote update -p  # -p prunes the remote feature/<name> branch from the local repo\n",
    "\n",
    "git checkout master\n",
    "git pull origin master\n",
    "\n",
    "git checkout develop\n",
    "git pull origin develop\n",
    "~~~~~~~~"
   ]
  },
  {
   "cell_type": "markdown",
   "metadata": {},
   "source": [
    "# Ecbuild\n",
    "\n",
    "* To enable features, such as OpenMP, you use the ecbuild_add_option macro\n",
    "    * The user sets an ENABLE\\_ environment var (via ecbuild_add_option)\n",
    "    * And the macro sets HAVE\\_ accordingly\n",
    "    \n",
    "    * Example: OpenMP\n",
    "        * User places the following in a CMakeLists.txt file\n",
    "\n",
    "~~~~~~~~\n",
    "ecbuild_add_option( FEATURE OMP\n",
    "                    DEFAULT ON\n",
    "                    DESCRIPTION \"Use OpenMP\" )\n",
    "~~~~~~~~\n",
    "\n",
    "* This macro will set the HAVE_OMP cmake variable which is then used downstream by other cmake processes"
   ]
  },
  {
   "cell_type": "markdown",
   "metadata": {
    "tags": []
   },
   "source": [
    "# How to resolve mege conflict with a git lfs file\n",
    "\n",
    "```\n",
    "cd ioda-bundle/iodaconv\n",
    "\n",
    "git checkout develop\n",
    "git pull\n",
    "\n",
    "git checkout feature/mycode\n",
    "git pull\n",
    "\n",
    "git merge develop\n",
    "\n",
    "# for each of the lfs files with conflicts\n",
    "git checkout --theirs path_to_file    # choose develop version\n",
    "git checkout --ours path_to_file      # choose feature/mycode version\n",
    "```"
   ]
  },
  {
   "cell_type": "markdown",
   "metadata": {},
   "source": [
    "# Build and test fv3-bundle on S4, 1/18/22\n",
    "\n",
    "* When building my own jedi-stack using intel/impi, the formula for loading modules is a bit tricky. Here is what I did to get this accomplished.\n",
    "\n",
    "```\n",
    "git lfs install # I may have not needed this, but it did seem to help\n",
    "\n",
    "module use /data/users/sherbener/projects/jedi-stack/modulefiles/apps\n",
    "\n",
    "module load license_intal\n",
    "module load git/2.30.0\n",
    "module load miniconda/3.8-s4\n",
    "module load jedi/intel-impi\n",
    "module load odc/ecmwf-1.4.4\n",
    "module load jedi-gcc/8.3\n",
    "\n",
    "cd /data/users/sherbener/projects\n",
    "git clone https://github.com/jcsda-internal/fv3-bundle\n",
    "cd fv3-bundle\n",
    "git clone https://github.com/jcsda-internal/jedi-cmake jedicmake\n",
    "mkdir build\n",
    "cd build\n",
    "ecbuild --toolchain=../jedicmake/cmake/Toolchains/jcsda-S4-Intel.cmake ..\n",
    "make -j4\n",
    "```"
   ]
  },
  {
   "cell_type": "code",
   "execution_count": null,
   "metadata": {},
   "outputs": [],
   "source": []
  }
 ],
 "metadata": {
  "kernelspec": {
   "display_name": "Python 3",
   "language": "python",
   "name": "python3"
  },
  "language_info": {
   "codemirror_mode": {
    "name": "ipython",
    "version": 3
   },
   "file_extension": ".py",
   "mimetype": "text/x-python",
   "name": "python",
   "nbconvert_exporter": "python",
   "pygments_lexer": "ipython3",
   "version": "3.9.10"
  }
 },
 "nbformat": 4,
 "nbformat_minor": 4
}
