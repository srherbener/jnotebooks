{
 "cells": [
  {
   "cell_type": "markdown",
   "metadata": {},
   "source": [
    "# Notes, 12/29/17\n",
    "* Decided to use this instead of GitHub Pages since Sphinx and ReadTheDocs is independent of GitHub\n",
    "* Tutorial\n",
    "    * http://dont-be-afraid-to-commit.readthedocs.io/en/latest/documentation.html#documentation-using-sphinx-and-readthedocs-org\n",
    "    * create anaconda environment for documentation\n",
    "        * conda create -n docs python=3.6 sphinx\n",
    "        * source activate docs\n",
    "    * create a git repository to hold the documentation (following directions on above website)\n",
    "        * mkdir ~/Documents/Sphinx/my-first-docs\n",
    "        * cd ~/Documents/Sphinx/my-first-docs\n",
    "        * git init\n",
    "        * git remote add origin git@github.com:srherbener/my-first-docs.git\n",
    "        * git checkout -b master\n",
    "        * mkdir docs\n",
    "        * sphinx-quickstart\n",
    "            * root directory --> docs\n",
    "            * separate source and build directories --> y\n",
    "            * name prefix for templates and static dirs --> hit return to leave as underscore\n",
    "            * project name --> Steve's first docs\n",
    "            * project id --> 1.0\n",
    "            * project release --> 1.0.1\n",
    "            * project language --> hit return to leave as english (en)\n",
    "            * source file suffix --> hit return to leave as .rst\n",
    "            * name of your master document --> hit return to leave as \"index\"\n",
    "            * want to use epub builder --> n\n",
    "            * say yes to all sphinx extensions except for imgmath and githubpages\n",
    "            * create makefile --> y\n",
    "            * create window command file --> n\n",
    "        * cd docs\n",
    "        * edit source/index.rst\n",
    "    * update github repository\n",
    "        * git commit -a\n",
    "        * git push origin master\n",
    " "
   ]
  },
  {
   "cell_type": "code",
   "execution_count": null,
   "metadata": {
    "collapsed": true
   },
   "outputs": [],
   "source": []
  }
 ],
 "metadata": {
  "kernelspec": {
   "display_name": "Python 3",
   "language": "python",
   "name": "python3"
  },
  "language_info": {
   "codemirror_mode": {
    "name": "ipython",
    "version": 3
   },
   "file_extension": ".py",
   "mimetype": "text/x-python",
   "name": "python",
   "nbconvert_exporter": "python",
   "pygments_lexer": "ipython3",
   "version": "3.6.3"
  }
 },
 "nbformat": 4,
 "nbformat_minor": 2
}
