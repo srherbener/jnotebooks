{
 "cells": [
  {
   "cell_type": "markdown",
   "metadata": {
    "collapsed": true
   },
   "source": [
    "# Notes, 8/24/18\n",
    "\n",
    "## GSI netcdf\n",
    "\n",
    "* Clara will be able to provide:\n",
    "    * Radiosonde - Yes\n",
    "    * AMSU-A - Yes\n",
    "    * Aircraft - Maybe\n",
    "\n",
    "* From Clara, I will receive a set of netcdf files\n",
    "    * One file for each process element\n",
    "    * Need to cat together\n",
    "    * AMSU-A will cat to one file\n",
    "    * Radiosonde will cat to a set of files, one for each variable\n",
    "\n",
    "* Select from the variable files, single obs, 100's obs and full set of obs\n",
    "\n",
    "* Take the set of selected netcdf files, combine varibles together, split into geovals and obs files\n",
    "\n",
    "* Wrote set of python scripts to do the above:\n",
    "    * cat_nc_files.py\n",
    "      * Take Clara's output from GSI and concatenate into the full set of obs\n",
    "      * Output: one file for each variable\n",
    "    * select_nc_files.py\n",
    "      * Read in the variable netcdf files and select 1 and 100's of obs\n",
    "      * Output: Two sets of files: One for single obs, other for 100's of obs\n",
    "    * prep_nc_files.py\n",
    "      * Read in selected obs files (and full obs files) and split into geovals and obs files\n",
    "      * Output: set of geovals files, set of obs files\n",
    "\n",
    "* Place the geovals files into the UFO test directory\n",
    "\n",
    "* Place the obs files into the IODA test directory\n",
    "\n",
    "* QC marks\n",
    "    * Prep_QC_Mark - prepBUFR value\n",
    "    * Setup_QC_Mark - After GSI processing (use this one)\n",
    "\n",
    "* Jeff W. has an execuatable, nc_diag_cat.x, that comes from GSI\n",
    "    * Utility that does what the cat_nc_files.py script does\n",
    "    * Need to compile from production GSI code\n",
    "    * Jeff sent me a tar file with the GSI production code\n",
    "        * Was able to compile, but nc_diag_cat.x crashes when it tries to open files\n",
    "\n"
   ]
  },
  {
   "cell_type": "code",
   "execution_count": null,
   "metadata": {},
   "outputs": [],
   "source": []
  }
 ],
 "metadata": {
  "kernelspec": {
   "display_name": "Python 3",
   "language": "python",
   "name": "python3"
  },
  "language_info": {
   "codemirror_mode": {
    "name": "ipython",
    "version": 3
   },
   "file_extension": ".py",
   "mimetype": "text/x-python",
   "name": "python",
   "nbconvert_exporter": "python",
   "pygments_lexer": "ipython3",
   "version": "3.6.5"
  }
 },
 "nbformat": 4,
 "nbformat_minor": 2
}
