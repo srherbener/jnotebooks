{
 "cells": [
  {
   "cell_type": "markdown",
   "metadata": {},
   "source": [
    "# Notes\n",
    "* GSI --> Gridpoint Statistical Interpolator\n",
    "* NWS\n",
    "* Current data assimilation system\n",
    "* Will replace this with JEDI components\n",
    "* For iMac\n",
    "    * iMac is little-endian and the test case files are big-endian\n",
    "    * Use gfortran option: -fconvert=big-endian\n",
    "        * This tells compiler to use big-endian format on all \"unformatted\" files\n"
   ]
  },
  {
   "cell_type": "code",
   "execution_count": null,
   "metadata": {
    "collapsed": true
   },
   "outputs": [],
   "source": []
  }
 ],
 "metadata": {
  "kernelspec": {
   "display_name": "Python 3",
   "language": "python",
   "name": "python3"
  },
  "language_info": {
   "codemirror_mode": {
    "name": "ipython",
    "version": 3
   },
   "file_extension": ".py",
   "mimetype": "text/x-python",
   "name": "python",
   "nbconvert_exporter": "python",
   "pygments_lexer": "ipython3",
   "version": "3.6.3"
  }
 },
 "nbformat": 4,
 "nbformat_minor": 2
}
