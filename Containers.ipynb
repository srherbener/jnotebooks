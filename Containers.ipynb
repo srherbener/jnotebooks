{
 "cells": [
  {
   "cell_type": "markdown",
   "metadata": {},
   "source": [
    "# Anaconda\n",
    "\n",
    "* Called \"environments\"\n",
    "* Create a new environment\n",
    "    * conda create -n tensorflow python=3.5\n",
    "        * New environment called \"tensorflow\"\n",
    "        * Install python 3.5\n",
    "    * conda create -n python27 python=2.7 anaconda\n",
    "        * New environment called \"python27\"\n",
    "        * Install python 2.7\n",
    "        * Install anaconda\n",
    "* List environments\n",
    "    * conda env list\n",
    "        OR\n",
    "    * conda info --envs\n",
    "* Switch environments\n",
    "    * source activate python27\n",
    "        * switch to environment named \"python27\"\n",
    "    * source activate tensorflow\n",
    "        * switch to environment named \"tensorflow\"\n",
    "    * source deactivate\n",
    "        * switch back to default environment\n",
    "* Remove an environment\n",
    "    * conda remove --name env_name --all\n",
    "\n",
    "# Singularity (vagrant, virtualbox)\n",
    "\n",
    "* To stop vm\n",
    "    * exit out of singularity\n",
    "    * exit out of vagrant\n",
    "    * vagrant halt\n",
    "* To restart vm\n",
    "    * cd ~/singularity-vm\n",
    "    * vagrant up\n",
    "    * vagrant ssh\n",
    "    * singularity shell --bind /vagrant_data -e xinzhang8noaa-singularity-master.simg\n",
    "\n"
   ]
  },
  {
   "cell_type": "code",
   "execution_count": null,
   "metadata": {
    "collapsed": true
   },
   "outputs": [],
   "source": []
  }
 ],
 "metadata": {
  "kernelspec": {
   "display_name": "Python 3",
   "language": "python",
   "name": "python3"
  },
  "language_info": {
   "codemirror_mode": {
    "name": "ipython",
    "version": 3
   },
   "file_extension": ".py",
   "mimetype": "text/x-python",
   "name": "python",
   "nbconvert_exporter": "python",
   "pygments_lexer": "ipython3",
   "version": "3.6.3"
  }
 },
 "nbformat": 4,
 "nbformat_minor": 2
}
