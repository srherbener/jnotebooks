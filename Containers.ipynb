{
 "cells": [
  {
   "cell_type": "markdown",
   "metadata": {},
   "source": [
    "# Anaconda\n",
    "\n",
    "* Called \"environments\"\n",
    "* Create a new environment\n",
    "    * conda create -n tensorflow python=3.5\n",
    "        * New environment called \"tensorflow\"\n",
    "        * Install python 3.5\n",
    "    * conda create -n python27 python=2.7 anaconda\n",
    "        * New environment called \"python27\"\n",
    "        * Install python 2.7\n",
    "        * Install anaconda\n",
    "* List environments\n",
    "    * conda env list\n",
    "        OR\n",
    "    * conda info --envs\n",
    "* Switch environments\n",
    "    * source activate python27\n",
    "        * switch to environment named \"python27\"\n",
    "    * source activate tensorflow\n",
    "        * switch to environment named \"tensorflow\"\n",
    "    * source deactivate\n",
    "        * switch back to default environment\n",
    "* Remove an environment\n",
    "    * conda remove --name env_name --all\n",
    "\n",
    "# Singularity (vagrant, virtualbox)\n",
    "\n",
    "* To stop vm\n",
    "    * exit out of singularity\n",
    "    * exit out of vagrant\n",
    "    * vagrant halt\n",
    "* To restart vm\n",
    "    * cd ~/singularity-vm\n",
    "    * vagrant up\n",
    "    * vagrant ssh\n",
    "    * singularity shell --bind /vagrant_data -e xinzhang8noaa-singularity-master.simg\n",
    "* Singularity preserves state after halting\n",
    "    * Files that you created before halting are still there after restarting\n"
   ]
  },
  {
   "cell_type": "markdown",
   "metadata": {
    "collapsed": true
   },
   "source": [
    "# Docker\n",
    "* To install docker on Mac\n",
    "    * brew cask install docker\n",
    "* To startup docker\n",
    "    * Launchpad --> Click on the whale\n",
    "    * A whale shows up in tool bar (near the wifi symbol)\n",
    "* At this point, can run 'docker' from command line\n",
    "* It has been said that Docker has serious security issues  \n",
    "    https://www.cimcor.com/blog/the-top-5-security-risks-in-docker-container-deployment\n",
    "    \n",
    "    * Several websites have advice on how to narrow the security hole  \n",
    "        https://www.sumologic.com/blog/security/securing-docker-containers/\n",
    "        \n",
    "        https://docs.docker.com/engine/security/security/\n",
    "        \n",
    "        https://sysdig.com/blog/7-docker-security-vulnerabilities/\n",
    "\n",
    "* Docker does not preserve state after exiting\n",
    "    * Files you created before exiting are gone after restarting"
   ]
  },
  {
   "cell_type": "code",
   "execution_count": null,
   "metadata": {
    "collapsed": true
   },
   "outputs": [],
   "source": []
  }
 ],
 "metadata": {
  "kernelspec": {
   "display_name": "Python 3",
   "language": "python",
   "name": "python3"
  },
  "language_info": {
   "codemirror_mode": {
    "name": "ipython",
    "version": 2
   },
   "file_extension": ".py",
   "mimetype": "text/x-python",
   "name": "python",
   "nbconvert_exporter": "python",
   "pygments_lexer": "ipython2",
   "version": "2.7.14"
  }
 },
 "nbformat": 4,
 "nbformat_minor": 2
}
