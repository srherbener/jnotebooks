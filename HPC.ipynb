{
 "cells": [
  {
   "cell_type": "markdown",
   "metadata": {},
   "source": [
    "# Orion, 1/31/20\n",
    "\n",
    "* Niagra is data server\n",
    "    * GLOBUS file transfer\n",
    "* Slides\n",
    "* 4 login nodes\n",
    "* DUO dual authentication\n",
    "* `ssh <username>@orion-login.hpc.msstate.edu`\n",
    "    * Enter password plus DUO passcode\n",
    "* lmod\n",
    "* slurm\n",
    "* `/work/noaa/<project>/`"
   ]
  },
  {
   "cell_type": "code",
   "execution_count": null,
   "metadata": {},
   "outputs": [],
   "source": []
  }
 ],
 "metadata": {
  "kernelspec": {
   "display_name": "Python 3",
   "language": "python",
   "name": "python3"
  },
  "language_info": {
   "codemirror_mode": {
    "name": "ipython",
    "version": 3
   },
   "file_extension": ".py",
   "mimetype": "text/x-python",
   "name": "python",
   "nbconvert_exporter": "python",
   "pygments_lexer": "ipython3",
   "version": "3.7.3"
  }
 },
 "nbformat": 4,
 "nbformat_minor": 2
}
