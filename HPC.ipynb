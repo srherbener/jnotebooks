{
 "cells": [
  {
   "cell_type": "markdown",
   "metadata": {},
   "source": [
    "# S4, high-res 3DVar example, 1/27/20\n",
    "\n",
    "* Error message:\n",
    "    * `getvalues_adunknown variable: mole_fraction_of_carbon_dioxide_in_air`\n",
    "    * FV3 cannot supply carbon dioxide so this absorber needs to be removed from the YAML config\n",
    "* Dan recommended to remove absorbers and clouds from YAML\n",
    "    * Remove from both non-linear and linear sections\n",
    "* Turns out that you need to spec at least one absorber in the non-linear section\n",
    "    * The following works for several radiances (note commented out Absorbers and Clouds keywords):\n",
    "\n",
    "```\n",
    "    - ObsSpace:\n",
    "        name: AMSUA-NOAA19\n",
    "        ObsDataIn:\n",
    "          obsfile: Data/Observations/amsua_n19_obs_2019071800.nc4\n",
    "        #ObsDataOut:\n",
    "          #obsfile: Data/Hofx/amsua_n19_hofx_2019071800.nc4\n",
    "        simulate:\n",
    "          variables: [brightness_temperature]\n",
    "          channels: 1-10,15\n",
    "      ObsOperator:\n",
    "        name: CRTM\n",
    "        Absorbers: [H2O,O3]\n",
    "        #Clouds: [Water, Ice]\n",
    "        LinearObsOperator:\n",
    "          #Absorbers: [H2O,O3]\n",
    "          #Clouds: [Water, Ice]\n",
    "        ObsOptions:\n",
    "          inspectProfile: 1\n",
    "          Sensor_ID: amsua_n19\n",
    "          EndianType: little_endian\n",
    "          CoefficientPath: Data/crtm/\n",
    "      Covariance:\n",
    "        covariance: diagonal\n",
    "```"
   ]
  },
  {
   "cell_type": "markdown",
   "metadata": {},
   "source": [
    "# S4, jedi-rapids, 1/28/20\n",
    "\n",
    "* miniconda3 netCDF4 is not working\n",
    "* to force installation over previous installation\n",
    "    * `jedi-rapids install --force-overwrite`\n",
    "* Default prefix for compiled code\n",
    "    * `/data/users/sherbener/jedirapids/prefix`\n",
    "* Workaround until schedule app gets updated\n",
    "    * `sbatch jedi-rapids/submit/s4/hofx3d-gsi.sh`\n",
    "    * The hofx3d-gsi.sh file has a typo: change \"-7\" to \"-r\""
   ]
  },
  {
   "cell_type": "markdown",
   "metadata": {},
   "source": [
    "# Orion, 1/31/20\n",
    "\n",
    "* Niagra is data server\n",
    "    * GLOBUS file transfer\n",
    "* Slides\n",
    "* 4 login nodes\n",
    "* DUO dual authentication\n",
    "* `ssh <username>@orion-login.hpc.msstate.edu`\n",
    "    * Enter password plus DUO passcode\n",
    "* lmod\n",
    "* slurm\n",
    "* `/work/noaa/<project>/`"
   ]
  },
  {
   "cell_type": "markdown",
   "metadata": {},
   "source": [
    "# S4 building fv3-bundle, 3/10/20\n",
    "\n",
    "* Ran into issue where ecbuild declared ropp-ufo and others found when the ecbuild_bundle commands for these were commented out\n",
    "    * Symptom was a compile error in the gnssro mod where the datetimetype module was not found\n",
    "        * This module is defined in the ropp-ufo code, but there is source code since the ropp-ufo bundle was commented out\n",
    "    * Turned out that on a prior build, ropp-ufo and others were built and installed into the jedi-rapids prefix area\n",
    "    * On the second build (when ropp-ufo and others) were not being built, ecbuid was pointed to the same prefix path, found the install libraries from the prior build and declared these packages \"found\"\n",
    "    * The fix was to go back to the prior build, run \"make uninstall\", then start over on the new build"
   ]
  },
  {
   "cell_type": "code",
   "execution_count": null,
   "metadata": {},
   "outputs": [],
   "source": []
  }
 ],
 "metadata": {
  "kernelspec": {
   "display_name": "Python 3",
   "language": "python",
   "name": "python3"
  },
  "language_info": {
   "codemirror_mode": {
    "name": "ipython",
    "version": 3
   },
   "file_extension": ".py",
   "mimetype": "text/x-python",
   "name": "python",
   "nbconvert_exporter": "python",
   "pygments_lexer": "ipython3",
   "version": "3.7.3"
  }
 },
 "nbformat": 4,
 "nbformat_minor": 4
}
