{
 "cells": [
  {
   "cell_type": "markdown",
   "metadata": {},
   "source": [
    "# Meeting with Mariusz, 1/17/19\n",
    "\n",
    "## Data Center\n",
    "\n",
    "### NOAA (NESDIS)\n",
    "\n",
    "* Instrument: VIIRS\n",
    "    * Satellite: SUOMI NPP (polar orbiting)\n",
    "    * Website\n",
    "        * https://www.class.ncdc.noaa.gov/saa/products/search?datatype_family=VIIRS\n",
    "        * \"CLASS\" product\n",
    "        * Request data\n",
    "        * netcdf files\n",
    "        * 750m resolution (large data sets)\n",
    "        * Need to sample to model grid (150km, etc.)\n",
    "        * For now just taking point nearest the model grid\n",
    "            * Will use more sophisticated sampling in the future\n",
    "\n",
    "* Instrument: ABI\n",
    "    * Satellites: AQUA, TERRA\n",
    "    * Website\n",
    "        * ftp server\n",
    "        * request data\n",
    "        * netcdf files\n",
    "\n",
    "## netcdf tools: nco\n",
    "    * http://nco.sourceforge.net/\n",
    "    * command line\n",
    "    * modify netcdf files\n"
   ]
  },
  {
   "cell_type": "markdown",
   "metadata": {},
   "source": [
    "# Meeting with Mariusz, Anna and Cory, 2/15/19\n",
    "\n",
    "## Notes\n",
    "\n",
    "* VIIRS: 11 channels\n",
    "* MODIS: 21 channels\n",
    "\n",
    "* Using only channel number 4 from VIIRS\n",
    "\n",
    "## Needs\n",
    "\n",
    "* AOD obs into IODA\n",
    "    * Use Anna's flow for now\n",
    "        * Put in modifications for AOD variables\n",
    "    * Use common writer in IodaIO\n",
    "\n",
    "* Super Obs, Thinning\n",
    "    * Timeframe ~6 months\n",
    "    * Sampling process from meeting on 1/17/19 above (?)\n",
    "    * Need to do this on a case by case basis for each model grid\n",
    "        * Filter inside JEDI\n",
    "    * Need to generate obs error estimates based on the sampling\n",
    "        * Based on distance from model grid\n",
    "\n",
    "* Need pre-, post-filter capability for the QC filtering that Cory wants to do\n",
    "    * Start with what we have in JEDI\n",
    "    * Can discuss further with Yannick if issues come up\n",
    "\n",
    "* Date, Time\n",
    "    * Want to use absolute time\n",
    "    * Will use ref, offset scheme for now"
   ]
  },
  {
   "cell_type": "code",
   "execution_count": null,
   "metadata": {},
   "outputs": [],
   "source": []
  }
 ],
 "metadata": {
  "kernelspec": {
   "display_name": "Python 3",
   "language": "python",
   "name": "python3"
  },
  "language_info": {
   "codemirror_mode": {
    "name": "ipython",
    "version": 3
   },
   "file_extension": ".py",
   "mimetype": "text/x-python",
   "name": "python",
   "nbconvert_exporter": "python",
   "pygments_lexer": "ipython3",
   "version": "3.6.5"
  }
 },
 "nbformat": 4,
 "nbformat_minor": 2
}
