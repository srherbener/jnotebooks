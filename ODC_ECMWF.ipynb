{
 "cells": [
  {
   "cell_type": "markdown",
   "metadata": {},
   "source": [
    "# Notes, 7/9/19\n",
    "\n",
    "## Initial attempt to compile\n",
    "\n",
    "* ODC requires eckit 1.1.0\n",
    "* ecbuild version doesn't matter\n",
    "* \"Fortran\" missing from project statement in top-level CMakeLists.txt file\n",
    "* No python API\n",
    "* Got it to compile and all tests pass\n",
    "    * Tests download data - first run through ctest takes 40 minutes!\n",
    "    * Subsequent testing goes fast since don't have to download test data"
   ]
  },
  {
   "cell_type": "markdown",
   "metadata": {},
   "source": [
    "# Notes, 7/15/19\n",
    "\n",
    "* Reader first\n",
    "* Radiosonde, AMSU-A\n",
    "\n",
    "* Mark O. upgrade to eckit 1.1.0\n",
    "    * PR's are ready\n",
    "\n",
    "* Simon Smart is contact for ODC"
   ]
  },
  {
   "cell_type": "markdown",
   "metadata": {},
   "source": [
    "# Notes, 7/15/19\n",
    "\n",
    "* Python interface is called odyssey\n",
    "    * Simon sent a tarball\n",
    "\n",
    "* odc CMake config produces\n",
    "    * libodccore\n",
    "    * libodctest\n",
    "    * libodctools\n",
    "    \n",
    "* odyssey uses libodccore"
   ]
  },
  {
   "cell_type": "markdown",
   "metadata": {},
   "source": [
    "# Notes, 7/19/19\n",
    "\n",
    "* Created odc-bundle\n",
    "    * odc\n",
    "    * odyssey\n",
    "\n",
    "## python\n",
    "\n",
    "* odyssey uses python setup.py\n",
    "\n",
    "* use the setuptools pkg\n",
    "    * packaging system built on older distutils pkg\n",
    "\n",
    "* to save output from setup.py\n",
    "~~~~~~~~\n",
    "python setup.py install --record <log_file>\n",
    "~~~~~~~~\n",
    "\n",
    "* use the wheel file format for distribution\n",
    "    * egg is an older format that will eventually get depricated\n",
    "    * PiPY site is well uder way migrating from egg to wheel\n",
    "    * to create and install a wheel file for odyessey\n",
    "~~~~~~~~\n",
    "# cd to the ecbuild build directory:\n",
    "\n",
    "python setup bdist_wheel        # create the wheel file\n",
    "\n",
    "cd dist                         # Important to do this for the following pip\n",
    "                                # to work properly. Without this, the pip command\n",
    "                                # (for some reason) simply points the install area\n",
    "                                # to the files in the build area instead of placing\n",
    "                                # copies in the install area\n",
    "\n",
    "pip uninstall odyssey\n",
    "pip install <wheel_file>\n",
    "~~~~~~~~\n",
    "\n",
    "* handy web sites\n",
    "    * packaging.python.org/\n",
    "    * setuptools.readthedocs.io/\n",
    "    * python101.pythonlibrary.org/\n",
    "    * python.packaging.readthedocs.io/en/latest/index.html\n"
   ]
  },
  {
   "cell_type": "markdown",
   "metadata": {},
   "source": [
    "# Notes, 7/25/19\n",
    "\n",
    "* had to write a script to do the build/install using setup.py\n",
    "     * Difficult to locate wheel file\n",
    "         * wheel file name changes based on platform, os, etc.\n",
    "         * difficult to predit the name of the wheel file\n",
    "         * difficult to use file globbing in CMake scripts\n",
    "     * odyssey_setup.sh action dist_file install_dir\n",
    "         * action is: build, install\n",
    "         * dist_file: text file that holds the path to the wheel file\n",
    "            * if action is build, then dist_file is created\n",
    "            * if action is install, then dist_file is read\n"
   ]
  },
  {
   "cell_type": "markdown",
   "metadata": {},
   "source": [
    "# Notes, 7/30/19\n",
    "\n",
    "## Python installations\n",
    "\n",
    "* odyssey install works with miniconda2, 3\n",
    "* Does not work with container python2, 3\n",
    "    * wheel file gets built okay, but pip does not install it\n",
    "* pip doesn't contain the \"pep425tags\"\n",
    "    * already upgrading pip\n",
    "    * not upgrading wheel (could be this)\n",
    "    * pip is found in /usr/local/bin, but python2,3 are installed in /usr/bin\n",
    "* Worked with Mark and discovered that the recommended way to run pip is through the python command\n",
    "~~~~~~~\n",
    "python -m pip install ...\n",
    "~~~~~~~\n",
    "\n",
    "* Running pip through python gets the correct version of pip\n",
    "    * Works in the containers"
   ]
  },
  {
   "cell_type": "markdown",
   "metadata": {},
   "source": [
    "# Notes, 8/1/19\n",
    "\n",
    "* Odyssey needs the following packages\n",
    "    * pandas\n",
    "    * cffi     (for loading libodccode)\n",
    "    * pycparser\n",
    "    * pytest"
   ]
  },
  {
   "cell_type": "code",
   "execution_count": null,
   "metadata": {},
   "outputs": [],
   "source": []
  }
 ],
 "metadata": {
  "kernelspec": {
   "display_name": "Python 3",
   "language": "python",
   "name": "python3"
  },
  "language_info": {
   "codemirror_mode": {
    "name": "ipython",
    "version": 3
   },
   "file_extension": ".py",
   "mimetype": "text/x-python",
   "name": "python",
   "nbconvert_exporter": "python",
   "pygments_lexer": "ipython3",
   "version": "3.7.3"
  }
 },
 "nbformat": 4,
 "nbformat_minor": 2
}
