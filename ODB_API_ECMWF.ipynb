{
 "cells": [
  {
   "cell_type": "markdown",
   "metadata": {},
   "source": [
    "# Notes, 1/3/18\n",
    "* ODB website: https://software.ecmwf.int/wiki/display/ODBAPI/ODB+API+Home\n",
    "* ODB API is a software developed at ECMWF for encoding and processing of observational data. It includes a SQL filtering and statistics engine, command line tools and APIs for C/C++, Fortran and Python. ODB API works with data format used in ECMWF observational feedback archive. Development of ODB API has been partially funded by the Met Office.\n",
    "    * C/C++ base with Fortran and Python wrappers\n",
    "* ODB examples seem to indicate that the API\n",
    "    * Is for general SQL table creation and access\n",
    "    * Tables have heterogeneous data in columns going across a row\n",
    "        * Cumbersome to accees in C/C++/Fortran\n",
    "        * Not so bad in Python (example uses pandas which makes this easy)\n",
    "* ODB provides a command line tool called \"odb\"\n",
    "    * SQL access, plotting tools, inspect/compare odb files\n",
    "    * This seems more oriented toward observation data\n",
    "* ODB files follow a convention for metadata\n",
    "    * ODB Governance (?)\n",
    "\n",
    "## Download and Install\n",
    "* Download: https://software.ecmwf.int/wiki/display/ODBAPI/Releases\n",
    "* Install instructions: https://software.ecmwf.int/wiki/display/ODBAPI/ODB+API+Installation\n",
    "    * Build and install appear to work\n",
    "        * Sample program in install/bin directory: odbql_c_example \n",
    "            * creates an odb file without error\n",
    "            * \"odb ls odb_file\" shows its contents\n",
    "    * Test works, but 4 tests fail\n",
    "        * Output from ctest:\n",
    "        \n",
    "            > 99% tests passed, 4 tests failed out of 333  \n",
    "            >\n",
    "            > Label Time Summary:  \n",
    "            > download_data     =   1.43 sec (6 tests)  \n",
    "            > eckit             =  80.20 sec (96 tests)  \n",
    "            > executable        =  82.10 sec (103 tests)  \n",
    "            > metkit            =   0.46 sec (3 tests)  \n",
    "            > mpi               =   6.66 sec (2 tests)  \n",
    "            > odb_api           = 144.56 sec (234 tests)  \n",
    "            > odb_api_ecml      =  56.02 sec (27 tests)  \n",
    "            > odb_api_netcdf    =   0.56 sec (2 tests)  \n",
    "            > script            = 141.70 sec (224 tests)  \n",
    "            >\n",
    "            > Total Test time (real) = 226.30 sec \n",
    "            >\n",
    "            > The following tests FAILED:  \n",
    "            >     41 - eckit_test_mpi (Failed)  \n",
    "            >     42 - eckit_test_mpi_addcomm (Failed)  \n",
    "            >     95 - ECKIT-221.sh (Failed)  \n",
    "            >     96 - ECKIT-166.sh (Failed)  \n",
    "            > Errors while running CTest  \n",
    "\n",
    "    * The example program worked, so not sure what is broken.\n",
    "\n",
    "        "
   ]
  },
  {
   "cell_type": "markdown",
   "metadata": {
    "collapsed": true
   },
   "source": [
    "# Meeting with Yannick, 1/5/18\n",
    "* The ODB file is probably an SQL file\n",
    "    * Developers likely took an open source API for SQL and wired it into ODB\n",
    "* Are there templates for obs type tables in SQL?\n",
    "    * I was looking for the C/C++/Fortran APIs to have something like pandas in Python\n",
    "    * Yannick said that the tendancy is to design a table once, when a new instrument appears, then use that code over and over\n",
    "        * The creation of a new table occurs very infrequently\n",
    "        * Proablay not worth the effort to provide a generic table capability like pandas\n",
    "* The 4 test failures are probably okay for now\n",
    "    * MPI test failures may be indicating that I don't have MPI installed/enabled on my iMac\n",
    "* We will potentially collaborate with ECMWF on development\n",
    "    * Yannick will talk with people at AMS next week\n",
    "    * Depending on how these talks go\n",
    "        * Might get someone from ECMWF to come out here for a week or so to train us\n",
    "        * Or, might go to ECMWF for their annual training session\n",
    "* Use the website and code repository for help with API, examples, etc.\n",
    "    * If this doesn't work well, perhaps the training will happen"
   ]
  },
  {
   "cell_type": "code",
   "execution_count": null,
   "metadata": {
    "collapsed": true
   },
   "outputs": [],
   "source": []
  }
 ],
 "metadata": {
  "kernelspec": {
   "display_name": "Python 3",
   "language": "python",
   "name": "python3"
  },
  "language_info": {
   "codemirror_mode": {
    "name": "ipython",
    "version": 3
   },
   "file_extension": ".py",
   "mimetype": "text/x-python",
   "name": "python",
   "nbconvert_exporter": "python",
   "pygments_lexer": "ipython3",
   "version": "3.6.3"
  }
 },
 "nbformat": 4,
 "nbformat_minor": 2
}
